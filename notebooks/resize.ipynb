{
 "cells": [
  {
   "cell_type": "code",
   "execution_count": 69,
   "id": "eabbb4ad",
   "metadata": {},
   "outputs": [
    {
     "name": "stdout",
     "output_type": "stream",
     "text": [
      "CPU times: user 171 ms, sys: 5.23 ms, total: 176 ms\n",
      "Wall time: 420 ms\n"
     ]
    }
   ],
   "source": [
    "%%time\n",
    "import boto3\n",
    "import re\n",
    "import numpy as np\n",
    "import pandas as pd\n",
    "import os\n",
    "import sagemaker\n",
    "from sagemaker import get_execution_role\n",
    "from sagemaker import image_uris\n",
    "import cv2\n",
    "import urllib.request as ur\n",
    "from PIL import Image\n",
    "import s3fs\n",
    "\n",
    "role = get_execution_role()\n",
    "\n",
    "training_image = image_uris.retrieve(\n",
    "    region=boto3.Session().region_name, framework=\"image-classification\"\n",
    ")"
   ]
  },
  {
   "cell_type": "code",
   "execution_count": 96,
   "id": "fa59957a",
   "metadata": {},
   "outputs": [
    {
     "name": "stdout",
     "output_type": "stream",
     "text": [
      "(31, 31)\n",
      "(216, 216)\n"
     ]
    }
   ],
   "source": [
    "import pathlib\n",
    "\n",
    "def display_image(file_path):\n",
    "    im = Image.open(file_path)\n",
    "    im.show()\n",
    "    \n",
    "def get_image_size(file_path):\n",
    "    im = Image.open(file_path)\n",
    "    return im.size\n",
    "    \n",
    "min_size = (1000,1000)\n",
    "max_size = (31,31) # which is the min_size\n",
    "for directory in os.listdir(\"./train_data\"):\n",
    "    for file in os.scandir(f\"./train_data/{directory}\"):\n",
    "    #     display_image(file.path)\n",
    "        file_ext = pathlib.Path(file.path).suffix\n",
    "        if file_ext == \".jpg\":\n",
    "            curr_size = get_image_size(file.path)\n",
    "            if curr_size < min_size:\n",
    "                min_size = curr_size\n",
    "                \n",
    "            if curr_size > max_size:\n",
    "                max_size = curr_size\n",
    "        \n",
    "print(min_size)\n",
    "print(max_size)"
   ]
  },
  {
   "cell_type": "code",
   "execution_count": 98,
   "id": "0fb901b7",
   "metadata": {},
   "outputs": [],
   "source": [
    "def resize():\n",
    "    for directory in os.listdir(\"./train_data\"):\n",
    "        for file in os.scandir(f\"./train_data/{directory}\"):\n",
    "            file_ext = pathlib.Path(file.path).suffix\n",
    "            if file_ext == \".jpg\":\n",
    "                im = Image.open(file.path)\n",
    "                f, e = os.path.splitext(file.path)\n",
    "                imResize = im.resize((128,128), Image.ANTIALIAS)\n",
    "                imResize.save(f + ' resized.jpg', 'JPEG', quality=90)\n",
    "resize()"
   ]
  },
  {
   "cell_type": "code",
   "execution_count": 100,
   "id": "f62f1751",
   "metadata": {},
   "outputs": [],
   "source": [
    "for directory in os.listdir(\"./train_data\"):\n",
    "        for file in os.scandir(f\"./train_data/{directory}\"):\n",
    "            file_ext = pathlib.Path(file.path).suffix\n",
    "            if file_ext == \".jpg\":\n",
    "                if file.path.count(\"resized\") == 2:\n",
    "                    os.remove(file.path)"
   ]
  },
  {
   "cell_type": "code",
   "execution_count": null,
   "id": "4aa32677",
   "metadata": {},
   "outputs": [],
   "source": [
    "for directory in os.listdir(src_dir):\n",
    "    for file in os.scandir(f\"./{src_dir}/{directory}\"):\n",
    "        file_ext = pathlib.Path(file.path).suffix\n",
    "        if file_ext == \".jpg\" and \"resized\" in file.path:\n",
    "            file_directory = os.path.join(dest_dir, directory)\n",
    "            if not os.path.exists(file_directory):\n",
    "                os.mkdir(file_directory)\n",
    "            original_filepath = os.path.join(src_dir, directory, pathlib.Path(file.name))\n",
    "#             print(original_filepath)\n",
    "            shutil.copy2(original_filepath, file_directory)"
   ]
  },
  {
   "cell_type": "code",
   "execution_count": null,
   "id": "7c796542",
   "metadata": {},
   "outputs": [],
   "source": [
    "import shutil\n",
    "import os\n",
    " \n",
    "# path to source directory\n",
    "src_dir = './train_data'\n",
    " \n",
    "# path to destination directory\n",
    "dest_dir = './train_data_resized'"
   ]
  },
  {
   "cell_type": "code",
   "execution_count": null,
   "id": "8b12f111",
   "metadata": {},
   "outputs": [],
   "source": [
    "\"\"\"\n",
    "we're splitting age groups into 5 buckets: \n",
    "0: 19-30\n",
    "1: 31-40\n",
    "2: 41-50\n",
    "3: 51-60\n",
    "4: 61-70\n",
    "\"\"\"\n",
    "\n",
    "\n",
    "bucket_0_folder = '0'\n",
    "bucket_1_folder = '1'\n",
    "bucket_2_folder = '2'\n",
    "bucket_3_folder = '3'\n",
    "bucket_4_folder = '4'\n",
    "\n",
    "label_match_dict = {\n",
    "    bucket_0_folder: [19, 30],\n",
    "    bucket_1_folder: [31, 40],\n",
    "    bucket_2_folder: [41, 50],\n",
    "    bucket_3_folder: [51, 60],\n",
    "    bucket_4_folder: [61, 70]\n",
    "} \n",
    "\n",
    "def get_age_bucket(age): \n",
    "    if 19 < age <= 30:\n",
    "        return bucket_0_folder\n",
    "        \n",
    "    if 30 < age <= 40:\n",
    "        return bucket_1_folder\n",
    "        \n",
    "    if 40 < age <= 50:\n",
    "        return bucket_2_folder\n",
    "    \n",
    "    if 50 < age <= 60:\n",
    "        return bucket_3_folder\n",
    "    \n",
    "    return bucket_4_folder\n",
    "\n",
    "bucket_destination_dir = \"./train_buckets\" \n",
    "os.mkdir(bucket_destination_dir)\n",
    "for new_folder in label_match_dict:\n",
    "    os.mkdir(os.path.join(bucket_destination_dir, new_folder))\n",
    "    \n",
    "for directory in os.listdir(dest_dir):\n",
    "    for file in os.scandir(f\"./{dest_dir}/{directory}\"):\n",
    "        file_ext = pathlib.Path(file.path).suffix\n",
    "        if file_ext == \".jpg\" and \"resized\" in file.path:\n",
    "            \n",
    "            folder = get_age_bucket(int(directory))\n",
    "            new_filename = directory+str(pathlib.Path(file.name))\n",
    "            file_destination = os.path.join(bucket_destination_dir, folder, new_filename)\n",
    "            original_filepath = os.path.join(dest_dir, directory, pathlib.Path(file.name))\n",
    "            shutil.copy2(original_filepath, file_destination)"
   ]
  },
  {
   "cell_type": "code",
   "execution_count": null,
   "id": "46e04859",
   "metadata": {},
   "outputs": [],
   "source": []
  }
 ],
 "metadata": {
  "kernelspec": {
   "display_name": "conda_python3",
   "language": "python",
   "name": "conda_python3"
  },
  "language_info": {
   "codemirror_mode": {
    "name": "ipython",
    "version": 3
   },
   "file_extension": ".py",
   "mimetype": "text/x-python",
   "name": "python",
   "nbconvert_exporter": "python",
   "pygments_lexer": "ipython3",
   "version": "3.8.12"
  }
 },
 "nbformat": 4,
 "nbformat_minor": 5
}
