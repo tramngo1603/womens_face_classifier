{
 "cells": [
  {
   "cell_type": "code",
   "execution_count": 1,
   "id": "d18f7f0b",
   "metadata": {},
   "outputs": [],
   "source": [
    "import os\n",
    "import pathlib\n",
    "\n",
    "import numpy as np \n",
    "import pandas as pd\n",
    "import matplotlib.pyplot as plt"
   ]
  },
  {
   "cell_type": "code",
   "execution_count": 5,
   "id": "7754e166",
   "metadata": {},
   "outputs": [
    {
     "data": {
      "text/plain": [
       "['19', '19', '19', '19', '19']"
      ]
     },
     "execution_count": 5,
     "metadata": {},
     "output_type": "execute_result"
    }
   ],
   "source": [
    "path = pathlib.Path('./data/train')\n",
    "filepaths = list(path.glob(r'**/*.jpg'))\n",
    "\n",
    "def get_age_from_path(path_url): \n",
    "    parent_folder = os.path.split(path_url)[0] \n",
    "    age = parent_folder.split(\"\\\\\")[-1] \n",
    "    return age\n",
    "\n",
    "targets = list(map(lambda x: get_age_from_path(x),filepaths)) \n",
    "targets[:5]"
   ]
  },
  {
   "cell_type": "code",
   "execution_count": 6,
   "id": "dccf8321",
   "metadata": {},
   "outputs": [
    {
     "data": {
      "text/html": [
       "<div>\n",
       "<style scoped>\n",
       "    .dataframe tbody tr th:only-of-type {\n",
       "        vertical-align: middle;\n",
       "    }\n",
       "\n",
       "    .dataframe tbody tr th {\n",
       "        vertical-align: top;\n",
       "    }\n",
       "\n",
       "    .dataframe thead th {\n",
       "        text-align: right;\n",
       "    }\n",
       "</style>\n",
       "<table border=\"1\" class=\"dataframe\">\n",
       "  <thead>\n",
       "    <tr style=\"text-align: right;\">\n",
       "      <th></th>\n",
       "      <th>file_path</th>\n",
       "      <th>age</th>\n",
       "    </tr>\n",
       "  </thead>\n",
       "  <tbody>\n",
       "    <tr>\n",
       "      <th>0</th>\n",
       "      <td>data\\train\\48\\246.jpg</td>\n",
       "      <td>48</td>\n",
       "    </tr>\n",
       "    <tr>\n",
       "      <th>1</th>\n",
       "      <td>data\\train\\23\\642.jpg</td>\n",
       "      <td>23</td>\n",
       "    </tr>\n",
       "    <tr>\n",
       "      <th>2</th>\n",
       "      <td>data\\train\\27\\840.jpg</td>\n",
       "      <td>27</td>\n",
       "    </tr>\n",
       "    <tr>\n",
       "      <th>3</th>\n",
       "      <td>data\\train\\33\\496.jpg</td>\n",
       "      <td>33</td>\n",
       "    </tr>\n",
       "    <tr>\n",
       "      <th>4</th>\n",
       "      <td>data\\train\\45\\935.jpg</td>\n",
       "      <td>45</td>\n",
       "    </tr>\n",
       "  </tbody>\n",
       "</table>\n",
       "</div>"
      ],
      "text/plain": [
       "               file_path age\n",
       "0  data\\train\\48\\246.jpg  48\n",
       "1  data\\train\\23\\642.jpg  23\n",
       "2  data\\train\\27\\840.jpg  27\n",
       "3  data\\train\\33\\496.jpg  33\n",
       "4  data\\train\\45\\935.jpg  45"
      ]
     },
     "execution_count": 6,
     "metadata": {},
     "output_type": "execute_result"
    }
   ],
   "source": [
    "column_path = pd.Series(filepaths, name='file_path').astype(str)\n",
    "column_age = pd.Series(targets, name='age').astype(str)\n",
    "\n",
    "train = pd.merge(column_path, column_age, right_index = True, left_index = True)\n",
    "train = train.sample(frac = 1).reset_index(drop=True) # all shuffle \n",
    "train.head()"
   ]
  },
  {
   "cell_type": "markdown",
   "id": "a328838e",
   "metadata": {},
   "source": [
    "### Plot faces"
   ]
  },
  {
   "cell_type": "code",
   "execution_count": null,
   "id": "1603b0ed",
   "metadata": {},
   "outputs": [],
   "source": [
    "figures, axes = plt.subplots(nrows=4, ncols=4,figsize=(15, 10),\n",
    "                        subplot_kw={'xticks': [], 'yticks': []})\n",
    "\n",
    "for i, ax in enumerate(a.flat):\n",
    "    i = i + 18\n",
    "    ax.imshow(plt.imread(train.face_image_path[i]))\n",
    "    ax.set_title(train.age_type[i])\n",
    "    \n",
    "plt.tight_layout()\n",
    "plt.show()"
   ]
  }
 ],
 "metadata": {
  "kernelspec": {
   "display_name": "Python 3 (ipykernel)",
   "language": "python",
   "name": "python3"
  },
  "language_info": {
   "codemirror_mode": {
    "name": "ipython",
    "version": 3
   },
   "file_extension": ".py",
   "mimetype": "text/x-python",
   "name": "python",
   "nbconvert_exporter": "python",
   "pygments_lexer": "ipython3",
   "version": "3.10.4"
  }
 },
 "nbformat": 4,
 "nbformat_minor": 5
}
